{
  "nbformat": 4,
  "nbformat_minor": 0,
  "metadata": {
    "colab": {
      "provenance": []
    },
    "kernelspec": {
      "name": "python3",
      "display_name": "Python 3"
    },
    "language_info": {
      "name": "python"
    }
  },
  "cells": [
    {
      "cell_type": "code",
      "execution_count": null,
      "metadata": {
        "colab": {
          "base_uri": "https://localhost:8080/"
        },
        "collapsed": true,
        "id": "R-AAdI1L9x1u",
        "outputId": "7cbd918c-88e6-44ea-abf1-8ca7d50d82c3"
      },
      "outputs": [
        {
          "output_type": "stream",
          "name": "stdout",
          "text": [
            "\r0% [Working]\r            \rGet:1 https://cloud.r-project.org/bin/linux/ubuntu jammy-cran40/ InRelease [3,626 B]\n",
            "Hit:2 https://developer.download.nvidia.com/compute/cuda/repos/ubuntu2204/x86_64  InRelease\n",
            "Hit:3 http://archive.ubuntu.com/ubuntu jammy InRelease\n",
            "Get:4 https://r2u.stat.illinois.edu/ubuntu jammy InRelease [6,555 B]\n",
            "Get:5 http://archive.ubuntu.com/ubuntu jammy-updates InRelease [128 kB]\n",
            "Get:6 http://security.ubuntu.com/ubuntu jammy-security InRelease [129 kB]\n",
            "Get:7 http://archive.ubuntu.com/ubuntu jammy-backports InRelease [127 kB]\n",
            "Hit:8 https://ppa.launchpadcontent.net/deadsnakes/ppa/ubuntu jammy InRelease\n",
            "Hit:9 https://ppa.launchpadcontent.net/graphics-drivers/ppa/ubuntu jammy InRelease\n",
            "Get:10 https://r2u.stat.illinois.edu/ubuntu jammy/main amd64 Packages [2,610 kB]\n",
            "Hit:11 https://ppa.launchpadcontent.net/ubuntugis/ppa/ubuntu jammy InRelease\n",
            "Get:12 http://archive.ubuntu.com/ubuntu jammy-updates/universe amd64 Packages [1,452 kB]\n",
            "Get:13 https://r2u.stat.illinois.edu/ubuntu jammy/main all Packages [8,461 kB]\n",
            "Get:14 http://archive.ubuntu.com/ubuntu jammy-updates/main amd64 Packages [2,696 kB]\n",
            "Get:15 http://archive.ubuntu.com/ubuntu jammy-updates/restricted amd64 Packages [3,353 kB]\n",
            "Fetched 19.0 MB in 6s (3,443 kB/s)\n",
            "Reading package lists... Done\n",
            "W: Skipping acquire of configured file 'main/source/Sources' as repository 'https://r2u.stat.illinois.edu/ubuntu jammy InRelease' does not seem to provide it (sources.list entry misspelt?)\n",
            "Reading package lists... Done\n",
            "Building dependency tree... Done\n",
            "Reading state information... Done\n",
            "The following NEW packages will be installed:\n",
            "  x13as\n",
            "0 upgraded, 1 newly installed, 0 to remove and 52 not upgraded.\n",
            "Need to get 1,178 kB of archives.\n",
            "After this operation, 3,076 kB of additional disk space will be used.\n",
            "Get:1 http://archive.ubuntu.com/ubuntu jammy/multiverse amd64 x13as amd64 1.1-b58-1 [1,178 kB]\n",
            "Fetched 1,178 kB in 1s (1,916 kB/s)\n",
            "debconf: unable to initialize frontend: Dialog\n",
            "debconf: (No usable dialog-like program is installed, so the dialog based frontend cannot be used. at /usr/share/perl5/Debconf/FrontEnd/Dialog.pm line 78, <> line 1.)\n",
            "debconf: falling back to frontend: Readline\n",
            "debconf: unable to initialize frontend: Readline\n",
            "debconf: (This frontend requires a controlling tty.)\n",
            "debconf: falling back to frontend: Teletype\n",
            "dpkg-preconfigure: unable to re-open stdin: \n",
            "Selecting previously unselected package x13as.\n",
            "(Reading database ... 123623 files and directories currently installed.)\n",
            "Preparing to unpack .../x13as_1.1-b58-1_amd64.deb ...\n",
            "Unpacking x13as (1.1-b58-1) ...\n",
            "Setting up x13as (1.1-b58-1) ...\n",
            "Processing triggers for man-db (2.10.2-1) ...\n"
          ]
        }
      ],
      "source": [
        "!sudo apt-get update\n",
        "!sudo apt-get install -y x13as"
      ]
    },
    {
      "cell_type": "code",
      "source": [
        "!apt-get install octave &> /dev/null"
      ],
      "metadata": {
        "id": "FrlXEDFy9ysN"
      },
      "execution_count": null,
      "outputs": []
    },
    {
      "cell_type": "code",
      "source": [
        "!apt-get install dynare &> /dev/null"
      ],
      "metadata": {
        "id": "a9BtUnfj90L8"
      },
      "execution_count": null,
      "outputs": []
    },
    {
      "cell_type": "code",
      "source": [
        "%%writefile rbc_no_gov.mod\n",
        "\n",
        "var c h k w r y i A;\n",
        "varexo e;\n",
        "parameters phi psi sigma alpha beta delta rho;\n",
        "\n",
        "phi = 1;\n",
        "psi = 2.29;\n",
        "sigma = 2;\n",
        "alpha = 0.44;\n",
        "beta = 0.97;\n",
        "delta = 0.05;\n",
        "rho = 0.9;\n",
        "\n",
        "model;\n",
        "\n",
        "# Abar = 1;\n",
        "# rbar = 1 / beta - 1 + delta;\n",
        "# koh = ( rbar / alpha )^( 1 / ( alpha - 1 ) );\n",
        "# coh = koh^alpha - delta * koh;\n",
        "# hbar = ( ( 1 - alpha ) / psi * koh^alpha * coh^(-sigma) )^( 1 / ( phi + sigma - 1 ) );\n",
        "# kbar = koh * hbar;\n",
        "# ybar = Abar * kbar^alpha * hbar^(1-alpha);\n",
        "\n",
        "psi * exp(h)^phi * exp(c)^sigma = exp(w);\n",
        "exp(c)^(-sigma) = beta * ( exp(c(+1)) )^(-sigma) * ( 1 + exp(r(+1)) - delta );\n",
        "exp(k) = ( 1 - delta ) * exp(k(-1)) + exp(i);\n",
        "exp(y) = exp(A) * exp(k(-1))^alpha * exp(h)^(1-alpha);\n",
        "exp(r) = alpha * exp(y) / exp(k);\n",
        "exp(w) = (1 - alpha) * exp(y) / exp(h);\n",
        "exp(y) = exp(c) + exp(i);\n",
        "A = (1 - rho) * Abar + rho * A(-1) + e;\n",
        "\n",
        "end;\n",
        "\n",
        "steady;\n",
        "\n",
        "check;\n",
        "\n",
        "shocks;\n",
        "var e;\n",
        "stderr 1;\n",
        "end;\n",
        "\n",
        "stoch_simul(ar=1, order=1, irf=20, graph_format = pdf);"
      ],
      "metadata": {
        "colab": {
          "base_uri": "https://localhost:8080/"
        },
        "id": "32Msw9Y290PX",
        "outputId": "04072730-f176-47a5-d2ce-c8d70c9e2b0e"
      },
      "execution_count": null,
      "outputs": [
        {
          "output_type": "stream",
          "name": "stdout",
          "text": [
            "Overwriting rbc_no_gov.mod\n"
          ]
        }
      ]
    },
    {
      "cell_type": "code",
      "source": [
        "%%writefile solve.m\n",
        "dynare rbc_no_gov.mod"
      ],
      "metadata": {
        "colab": {
          "base_uri": "https://localhost:8080/"
        },
        "id": "gBWHprWU90Ts",
        "outputId": "37094ca6-fbb3-4833-df04-8e3e968ccdc6"
      },
      "execution_count": null,
      "outputs": [
        {
          "output_type": "stream",
          "name": "stdout",
          "text": [
            "Overwriting solve.m\n"
          ]
        }
      ]
    },
    {
      "cell_type": "code",
      "source": [
        "!octave solve.m"
      ],
      "metadata": {
        "colab": {
          "base_uri": "https://localhost:8080/"
        },
        "id": "05WcwQFJ90WD",
        "outputId": "46bdd3a0-3afc-4c93-e345-67c4883b31ca",
        "collapsed": true
      },
      "execution_count": null,
      "outputs": [
        {
          "output_type": "stream",
          "name": "stdout",
          "text": [
            "octave: X11 DISPLAY environment variable not set\n",
            "octave: disabling GUI features\n",
            "Starting Dynare (version 5.0).\n",
            "Calling Dynare with arguments: none\n",
            "Starting preprocessing of the model file ...\n",
            "Found 8 equation(s).\n",
            "Evaluating expressions...done\n",
            "Computing static model derivatives (order 1).\n",
            "Computing dynamic model derivatives (order 1).\n",
            "Processing outputs ...\n",
            "done\n",
            "Preprocessing completed.\n",
            "\n",
            "\n",
            "STEADY-STATE RESULTS:\n",
            "\n",
            "c \t\t 1.50219\n",
            "h \t\t -1.29666\n",
            "k \t\t 3.51264\n",
            "w \t\t 2.53628\n",
            "r \t\t -2.51419\n",
            "y \t\t 1.81943\n",
            "i \t\t 0.51691\n",
            "A \t\t 1\n",
            "\n",
            "EIGENVALUES:\n",
            "         Modulus             Real        Imaginary\n",
            "\n",
            "             0.9              0.9                0\n",
            "          0.9428           0.9428                0\n",
            "           1.105            1.105                0\n",
            "       1.241e+17        1.241e+17                0\n",
            "\n",
            "\n",
            "There are 2 eigenvalue(s) larger than 1 in modulus \n",
            "for 2 forward-looking variable(s)\n",
            "\n",
            "The rank condition is verified.\n",
            "\n",
            "\n",
            "MODEL SUMMARY\n",
            "\n",
            "  Number of variables:         8\n",
            "  Number of stochastic shocks: 1\n",
            "  Number of state variables:   2\n",
            "  Number of jumpers:           2\n",
            "  Number of static variables:  4\n",
            "\n",
            "\n",
            "MATRIX OF COVARIANCE OF EXOGENOUS SHOCKS\n",
            "Variables           e\n",
            "e            1.000000\n",
            "\n",
            "POLICY AND TRANSITION FUNCTIONS\n",
            "                                   c               h               k               w               r               y               i               A\n",
            "Constant                    1.502192       -1.296661        3.512643        2.536275       -2.514191        1.819433        0.516910        1.000000\n",
            "k(-1)                       0.431818       -0.294192        0.942794        0.569444       -0.667541        0.275253       -0.144118               0\n",
            "A(-1)                       0.331154        0.165064        0.138186        0.827372        0.854250        0.992436        2.763720        0.900000\n",
            "e                           0.367949        0.183404        0.153540        0.919302        0.949166        1.102706        3.070800        1.000000\n",
            "\n",
            "\n",
            "THEORETICAL MOMENTS\n",
            "VARIABLE         MEAN  STD. DEV.   VARIANCE\n",
            "c              1.5022     2.1860     4.7785\n",
            "h             -1.2967     0.9154     0.8380\n",
            "k              3.5126     3.6909    13.6230\n",
            "w              2.5363     3.7272    13.8921\n",
            "r             -2.5142     2.1745     4.7282\n",
            "y              1.8194     3.2166    10.3464\n",
            "i              0.5169     6.7575    45.6640\n",
            "A              1.0000     2.2942     5.2632\n",
            "\n",
            "\n",
            "\n",
            "MATRIX OF CORRELATIONS\n",
            "Variables         c       h       k       w       r       y       i       A\n",
            "c            1.0000 -0.7571  0.9701  0.9870 -0.2735  0.9283  0.7589  0.7996\n",
            "h           -0.7571  1.0000 -0.8929 -0.6424  0.8355 -0.4598 -0.1491 -0.2129\n",
            "k            0.9701 -0.8929  1.0000  0.9186 -0.4987  0.8103  0.5783  0.6300\n",
            "w            0.9870 -0.6424  0.9186  1.0000 -0.1157  0.9759  0.8536  0.8856\n",
            "r           -0.2735  0.8355 -0.4987 -0.1157  1.0000  0.1038  0.4187  0.3590\n",
            "y            0.9283 -0.4598  0.8103  0.9759  0.1038  1.0000  0.9467  0.9656\n",
            "i            0.7589 -0.1491  0.5783  0.8536  0.4187  0.9467  1.0000  0.9979\n",
            "A            0.7996 -0.2129  0.6300  0.8856  0.3590  0.9656  0.9979  1.0000\n",
            "\n",
            "\n",
            "\n",
            "COEFFICIENTS OF AUTOCORRELATION\n",
            "Order          1\n",
            "c         0.9852\n",
            "h         0.9711\n",
            "k         0.9969\n",
            "w         0.9690\n",
            "r         0.8886\n",
            "y         0.9394\n",
            "i         0.8908\n",
            "A         0.9000\n",
            "warning: using the gnuplot graphics toolkit is discouraged\n",
            "\n",
            "The gnuplot graphics toolkit is not actively maintained and has a number\n",
            "of limitations that are ulikely to be fixed.  Communication with gnuplot\n",
            "uses a one-directional pipe and limited information is passed back to the\n",
            "Octave interpreter so most changes made interactively in the plot window\n",
            "will not be reflected in the graphics properties managed by Octave.  For\n",
            "example, if the plot window is closed with a mouse click, Octave will not\n",
            "be notified and will not update it's internal list of open figure windows.\n",
            "We recommend using the qt toolkit instead.\n",
            "Total computing time : 0h00m02s\n",
            "Note: warning(s) encountered in MATLAB/Octave code\n"
          ]
        }
      ]
    },
    {
      "cell_type": "code",
      "source": [
        "%%writefile rbc_gov.mod\n",
        "\n",
        "var c h k w r y i A G;\n",
        "varexo eA eG;\n",
        "parameters phi psi sigma alpha beta delta rho gs rho_G;\n",
        "\n",
        "phi = 1;\n",
        "psi = 2.29;\n",
        "sigma = 2;\n",
        "alpha = 0.44;\n",
        "beta = 0.97;\n",
        "delta = 0.05;\n",
        "rho = 0.9;\n",
        "gs = 0.2;\n",
        "rho_G = 0.9;\n",
        "\n",
        "model;\n",
        "\n",
        "# Abar = 1;\n",
        "# rbar = 1 / beta - 1 + delta;\n",
        "# koh = ( rbar / alpha )^( 1 / ( alpha - 1 ) );\n",
        "# coh = ( 1 - gs ) * koh^alpha - delta * koh;\n",
        "# hbar = ( ( 1 - alpha ) / psi * koh^alpha * coh^(-sigma) )^( 1 / ( phi + sigma - 1 ) );\n",
        "# kbar = koh * hbar;\n",
        "# ybar = Abar * kbar^alpha * hbar^(1-alpha);\n",
        "# Gbar = gs * ybar;\n",
        "\n",
        "psi * exp(h)^phi * exp(c)^sigma = exp(w);\n",
        "exp(c)^(-sigma) = beta * ( exp(c(+1)) )^(-sigma) * ( 1 + exp(r(+1)) - delta );\n",
        "exp(k) = ( 1 - delta ) * exp(k(-1)) + exp(i);\n",
        "exp(y) = exp(A) * exp(k(-1))^alpha * exp(h)^(1-alpha);\n",
        "exp(r) = alpha * exp(y) / exp(k);\n",
        "exp(w) = (1 - alpha) * exp(y) / exp(h);\n",
        "exp(y) = exp(c) + exp(i) + exp(G);\n",
        "\n",
        "G = (1 - rho_G) * Gbar + rho_G * G(-1) + eG;\n",
        "A = (1 - rho) * Abar + rho * A(-1) + eA;\n",
        "\n",
        "end;\n",
        "\n",
        "steady;\n",
        "\n",
        "check;\n",
        "\n",
        "shocks;\n",
        "var eA;\n",
        "stderr 1;\n",
        "var eG;\n",
        "stderr 1.99;\n",
        "end;\n",
        "\n",
        "stoch_simul(ar=1, order=1, irf=20, graph_format=pdf);"
      ],
      "metadata": {
        "colab": {
          "base_uri": "https://localhost:8080/"
        },
        "id": "upqByhJRou1O",
        "outputId": "34d1f8a4-c7a4-4c6b-8966-202d23565050"
      },
      "execution_count": null,
      "outputs": [
        {
          "output_type": "stream",
          "name": "stdout",
          "text": [
            "Overwriting rbc_gov.mod\n"
          ]
        }
      ]
    },
    {
      "cell_type": "code",
      "source": [
        "%%writefile solve.m\n",
        "dynare rbc_gov.mod"
      ],
      "metadata": {
        "colab": {
          "base_uri": "https://localhost:8080/"
        },
        "id": "U3lHlxdBnwgu",
        "outputId": "584017b8-7348-495e-e49f-7b83115f5797"
      },
      "execution_count": null,
      "outputs": [
        {
          "output_type": "stream",
          "name": "stdout",
          "text": [
            "Overwriting solve.m\n"
          ]
        }
      ]
    },
    {
      "cell_type": "code",
      "source": [
        "!octave solve.m"
      ],
      "metadata": {
        "colab": {
          "base_uri": "https://localhost:8080/"
        },
        "collapsed": true,
        "id": "xlD2ixAbox2y",
        "outputId": "ef62f972-ec13-412e-ac69-c3f22480a85d"
      },
      "execution_count": null,
      "outputs": [
        {
          "output_type": "stream",
          "name": "stdout",
          "text": [
            "octave: X11 DISPLAY environment variable not set\n",
            "octave: disabling GUI features\n",
            "Starting Dynare (version 5.0).\n",
            "Calling Dynare with arguments: none\n",
            "Starting preprocessing of the model file ...\n",
            "Found 9 equation(s).\n",
            "Evaluating expressions...done\n",
            "Computing static model derivatives (order 1).\n",
            "Computing dynamic model derivatives (order 1).\n",
            "Processing outputs ...\n",
            "done\n",
            "Preprocessing completed.\n",
            "\n",
            "\n",
            "STEADY-STATE RESULTS:\n",
            "\n",
            "c \t\t 1.40103\n",
            "h \t\t -1.09434\n",
            "k \t\t 3.71498\n",
            "w \t\t 2.53628\n",
            "r \t\t -2.5142\n",
            "y \t\t 2.02176\n",
            "i \t\t 0.719249\n",
            "A \t\t 1\n",
            "G \t\t 0.364197\n",
            "\n",
            "EIGENVALUES:\n",
            "         Modulus             Real        Imaginary\n",
            "\n",
            "             0.9              0.9                0\n",
            "             0.9              0.9                0\n",
            "          0.9455           0.9455                0\n",
            "           1.101            1.101                0\n",
            "       2.212e+14       -2.212e+14                0\n",
            "\n",
            "\n",
            "There are 2 eigenvalue(s) larger than 1 in modulus \n",
            "for 2 forward-looking variable(s)\n",
            "\n",
            "The rank condition is verified.\n",
            "\n",
            "\n",
            "MODEL SUMMARY\n",
            "\n",
            "  Number of variables:         9\n",
            "  Number of stochastic shocks: 2\n",
            "  Number of state variables:   3\n",
            "  Number of jumpers:           2\n",
            "  Number of static variables:  4\n",
            "\n",
            "\n",
            "MATRIX OF COVARIANCE OF EXOGENOUS SHOCKS\n",
            "Variables          eA        eG\n",
            "eA           1.000000  0.000000\n",
            "eG           0.000000  3.960100\n",
            "\n",
            "POLICY AND TRANSITION FUNCTIONS\n",
            "                                   c               h               k               w               r               y               i               A               G\n",
            "Constant                    1.401032       -1.094335        3.714981        2.536280       -2.514197        2.021764        0.719249        1.000000        0.364197\n",
            "k(-1)                       0.483347       -0.365759        0.945466        0.600934       -0.710292        0.235175       -0.090671               0               0\n",
            "A(-1)                       0.398051        0.072152        0.133610        0.868253        0.806794        0.940405        2.672209        0.900000               0\n",
            "G(-1)                      -0.084222        0.116975       -0.011176       -0.051469        0.076682        0.065506       -0.223518               0        0.900000\n",
            "eA                          0.442279        0.080168        0.148456        0.964726        0.896438        1.044894        2.969121        1.000000               0\n",
            "eG                         -0.093580        0.129972       -0.012418       -0.057188        0.085202        0.072784       -0.248353               0        1.000000\n",
            "\n",
            "\n",
            "THEORETICAL MOMENTS\n",
            "VARIABLE         MEAN  STD. DEV.   VARIANCE\n",
            "c              1.4010     2.5747     6.6293\n",
            "h             -1.0943     1.4574     2.1241\n",
            "k              3.7150     3.7350    13.9506\n",
            "w              2.5363     3.9473    15.5811\n",
            "r             -2.5142     2.3667     5.6012\n",
            "y              2.0218     2.9821     8.8931\n",
            "i              0.7192     6.7222    45.1884\n",
            "A              1.0000     2.2942     5.2632\n",
            "G              0.3642     4.5654    20.8426\n",
            "\n",
            "\n",
            "\n",
            "VARIANCE DECOMPOSITION (in percent)\n",
            "         eA      eG\n",
            "c     93.79    6.21\n",
            "h     74.06   25.94\n",
            "k     97.30    2.70\n",
            "w     98.00    2.00\n",
            "r     90.53    9.47\n",
            "y     99.13    0.87\n",
            "i     97.30    2.70\n",
            "A    100.00    0.00\n",
            "G      0.00  100.00\n",
            "\n",
            "\n",
            "\n",
            "MATRIX OF CORRELATIONS\n",
            "Variables         c       h       k       w       r       y       i       A       G\n",
            "c            1.0000 -0.8701  0.9570  0.9833 -0.4062  0.8763  0.7822  0.7801 -0.2302\n",
            "h           -0.8701  1.0000 -0.8988 -0.7659  0.7570 -0.5250 -0.4325 -0.3898  0.4930\n",
            "k            0.9570 -0.8988  1.0000  0.9166 -0.6029  0.7740  0.5867  0.6117 -0.1018\n",
            "w            0.9833 -0.7659  0.9166  1.0000 -0.2504  0.9493  0.8608  0.8737 -0.1182\n",
            "r           -0.4062  0.7570 -0.6029 -0.2504  1.0000  0.0385  0.2433  0.2519  0.2671\n",
            "y            0.8763 -0.5250  0.7740  0.9493  0.0385  1.0000  0.9280  0.9660  0.0844\n",
            "i            0.7822 -0.4325  0.5867  0.8608  0.2433  0.9280  1.0000  0.9856 -0.1641\n",
            "A            0.7801 -0.3898  0.6117  0.8737  0.2519  0.9660  0.9856  1.0000  0.0000\n",
            "G           -0.2302  0.4930 -0.1018 -0.1182  0.2671  0.0844 -0.1641  0.0000  1.0000\n",
            "\n",
            "\n",
            "\n",
            "COEFFICIENTS OF AUTOCORRELATION\n",
            "Order          1\n",
            "c         0.9821\n",
            "h         0.9789\n",
            "k         0.9971\n",
            "w         0.9692\n",
            "r         0.9123\n",
            "y         0.9353\n",
            "i         0.8941\n",
            "A         0.9000\n",
            "G         0.9000\n",
            "warning: using the gnuplot graphics toolkit is discouraged\n",
            "\n",
            "The gnuplot graphics toolkit is not actively maintained and has a number\n",
            "of limitations that are ulikely to be fixed.  Communication with gnuplot\n",
            "uses a one-directional pipe and limited information is passed back to the\n",
            "Octave interpreter so most changes made interactively in the plot window\n",
            "will not be reflected in the graphics properties managed by Octave.  For\n",
            "example, if the plot window is closed with a mouse click, Octave will not\n",
            "be notified and will not update it's internal list of open figure windows.\n",
            "We recommend using the qt toolkit instead.\n",
            "Total computing time : 0h00m04s\n",
            "Note: warning(s) encountered in MATLAB/Octave code\n"
          ]
        }
      ]
    },
    {
      "cell_type": "code",
      "source": [
        "%%writefile rbc_gov_cm.mod\n",
        "\n",
        "var c h k w r y i A G;\n",
        "varexo eA eG;\n",
        "parameters phi psi sigma alpha beta delta rho gs rho_G mu;\n",
        "\n",
        "phi = 1;\n",
        "psi = 2.29;\n",
        "sigma = 2;\n",
        "alpha = 0.44;\n",
        "beta = 0.97;\n",
        "delta = 0.05;\n",
        "rho = 0.9;\n",
        "gs = 0.2;\n",
        "rho_G = 0.9;\n",
        "mu = 1.2; // Markup para refletir concorrência monopolística\n",
        "\n",
        "model;\n",
        "\n",
        "# Abar = 1;\n",
        "# rbar = 1 / beta - 1 + delta;\n",
        "# koh = ( rbar / alpha )^( 1 / ( alpha - 1 ) );\n",
        "# coh = ( 1 - gs ) * koh^alpha - delta * koh;\n",
        "# hbar = ( ( 1 - alpha ) / psi * koh^alpha * coh^(-sigma) )^( 1 / ( phi + sigma - 1 ) );\n",
        "# kbar = koh * hbar;\n",
        "# ybar = Abar * kbar^alpha * hbar^(1-alpha);\n",
        "# Gbar = gs * ybar;\n",
        "\n",
        "psi * exp(h)^phi * exp(c)^sigma = exp(w);\n",
        "exp(c)^(-sigma) = beta * ( exp(c(+1)) )^(-sigma) * ( 1 + exp(r(+1)) - delta );\n",
        "exp(k) = ( 1 - delta ) * exp(k(-1)) + exp(i);\n",
        "exp(y) = exp(A) * exp(k(-1))^alpha * exp(h)^(1-alpha);\n",
        "exp(r) = alpha * exp(y) / (mu * exp(k));\n",
        "exp(w) = (1 - alpha) * exp(y) / (mu * exp(h));\n",
        "exp(y) = exp(c) + exp(i) + exp(G);\n",
        "\n",
        "G = (1 - rho_G) * Gbar + rho_G * G(-1) + eG;\n",
        "A = (1 - rho) * Abar + rho * A(-1) + eA;\n",
        "\n",
        "end;\n",
        "\n",
        "steady;\n",
        "\n",
        "check;\n",
        "\n",
        "shocks;\n",
        "var eA;\n",
        "stderr 1;\n",
        "var eG;\n",
        "stderr 1.99;\n",
        "end;\n",
        "\n",
        "stoch_simul(ar=1, order=1, irf=20, graph_format=pdf);"
      ],
      "metadata": {
        "colab": {
          "base_uri": "https://localhost:8080/"
        },
        "id": "TGis2r0Apbn8",
        "outputId": "a2732af1-7a59-4dd4-9b58-83c322bbb71d"
      },
      "execution_count": null,
      "outputs": [
        {
          "output_type": "stream",
          "name": "stdout",
          "text": [
            "Overwriting rbc_gov_cm.mod\n"
          ]
        }
      ]
    },
    {
      "cell_type": "code",
      "source": [
        "%%writefile solve.m\n",
        "dynare rbc_gov_cm.mod"
      ],
      "metadata": {
        "colab": {
          "base_uri": "https://localhost:8080/"
        },
        "id": "U-rfkGUIo1IY",
        "outputId": "6a2b0dc6-7e9f-433b-8a58-182e7b2906e4"
      },
      "execution_count": null,
      "outputs": [
        {
          "output_type": "stream",
          "name": "stdout",
          "text": [
            "Overwriting solve.m\n"
          ]
        }
      ]
    },
    {
      "cell_type": "code",
      "source": [
        "!octave solve.m"
      ],
      "metadata": {
        "colab": {
          "base_uri": "https://localhost:8080/"
        },
        "collapsed": true,
        "id": "Dxf46islphrq",
        "outputId": "7db2cf9d-452e-448c-ea9a-749f0d9a7029"
      },
      "execution_count": null,
      "outputs": [
        {
          "output_type": "stream",
          "name": "stdout",
          "text": [
            "octave: X11 DISPLAY environment variable not set\n",
            "octave: disabling GUI features\n",
            "Starting Dynare (version 5.0).\n",
            "Calling Dynare with arguments: none\n",
            "Starting preprocessing of the model file ...\n",
            "Found 9 equation(s).\n",
            "Evaluating expressions...done\n",
            "Computing static model derivatives (order 1).\n",
            "Computing dynamic model derivatives (order 1).\n",
            "Processing outputs ...\n",
            "done\n",
            "Preprocessing completed.\n",
            "\n",
            "\n",
            "STEADY-STATE RESULTS:\n",
            "\n",
            "c \t\t 1.25105\n",
            "h \t\t -1.11994\n",
            "k \t\t 3.36379\n",
            "w \t\t 2.21071\n",
            "r \t\t -2.5142\n",
            "y \t\t 1.8529\n",
            "i \t\t 0.368062\n",
            "A \t\t 1\n",
            "G \t\t 0.364197\n",
            "\n",
            "EIGENVALUES:\n",
            "         Modulus             Real        Imaginary\n",
            "\n",
            "             0.9              0.9                0\n",
            "             0.9              0.9                0\n",
            "          0.9452           0.9452                0\n",
            "           1.126            1.126                0\n",
            "       1.898e+15       -1.898e+15                0\n",
            "\n",
            "\n",
            "There are 2 eigenvalue(s) larger than 1 in modulus \n",
            "for 2 forward-looking variable(s)\n",
            "\n",
            "The rank condition is verified.\n",
            "\n",
            "\n",
            "MODEL SUMMARY\n",
            "\n",
            "  Number of variables:         9\n",
            "  Number of stochastic shocks: 2\n",
            "  Number of state variables:   3\n",
            "  Number of jumpers:           2\n",
            "  Number of static variables:  4\n",
            "\n",
            "\n",
            "MATRIX OF COVARIANCE OF EXOGENOUS SHOCKS\n",
            "Variables          eA        eG\n",
            "eA           1.000000  0.000000\n",
            "eG           0.000000  3.960100\n",
            "\n",
            "POLICY AND TRANSITION FUNCTIONS\n",
            "                                   c               h               k               w               r               y               i               A               G\n",
            "Constant                    1.251049       -1.119944        3.363795        2.210705       -2.514196        1.852901        0.368062        1.000000        0.364197\n",
            "k(-1)                       0.477464       -0.357589        0.945188        0.597339       -0.705438        0.239750       -0.096244               0               0\n",
            "A(-1)                       0.455041       -0.007001        0.142759        0.903080        0.753320        0.896079        2.855181        0.900000               0\n",
            "G(-1)                      -0.105039        0.145888       -0.014095       -0.064191        0.095792        0.081697       -0.281898               0        0.900000\n",
            "eA                          0.505601       -0.007779        0.158621        1.003423        0.837023        0.995644        3.172423        1.000000               0\n",
            "eG                         -0.116711        0.162098       -0.015661       -0.071323        0.106436        0.090775       -0.313220               0        1.000000\n",
            "\n",
            "\n",
            "THEORETICAL MOMENTS\n",
            "VARIABLE         MEAN  STD. DEV.   VARIANCE\n",
            "c              1.2510     2.8147     7.9224\n",
            "h             -1.1199     1.6877     2.8482\n",
            "k              3.3638     3.9983    15.9867\n",
            "w              2.2107     4.1604    17.3088\n",
            "r             -2.5142     2.4965     6.2327\n",
            "y              1.8529     2.9368     8.6245\n",
            "i              0.3681     7.2091    51.9716\n",
            "A              1.0000     2.2942     5.2632\n",
            "G              0.3642     4.5654    20.8426\n",
            "\n",
            "\n",
            "\n",
            "VARIANCE DECOMPOSITION (in percent)\n",
            "         eA      eG\n",
            "c     91.94    8.06\n",
            "h     70.10   29.90\n",
            "k     96.28    3.72\n",
            "w     97.19    2.81\n",
            "r     86.73   13.27\n",
            "y     98.61    1.39\n",
            "i     96.28    3.72\n",
            "A    100.00    0.00\n",
            "G      0.00  100.00\n",
            "\n",
            "\n",
            "\n",
            "MATRIX OF CORRELATIONS\n",
            "Variables         c       h       k       w       r       y       i       A       G\n",
            "c            1.0000 -0.9067  0.9501  0.9853 -0.4927  0.8747  0.7943  0.7841 -0.2624\n",
            "h           -0.9067  1.0000 -0.9036 -0.8212  0.7546 -0.5887 -0.5369 -0.4753  0.5298\n",
            "k            0.9501 -0.9036  1.0000  0.9190 -0.6810  0.7826  0.5858  0.6095 -0.1197\n",
            "w            0.9853 -0.8212  0.9190  1.0000 -0.3605  0.9447  0.8570  0.8682 -0.1401\n",
            "r           -0.4927  0.7546 -0.6810 -0.3605  1.0000 -0.0770  0.1270  0.1494  0.3164\n",
            "y            0.8747 -0.5887  0.7826  0.9447 -0.0770  1.0000  0.9056  0.9568  0.1059\n",
            "i            0.7943 -0.5369  0.5858  0.8570  0.1270  0.9056  1.0000  0.9803 -0.1926\n",
            "A            0.7841 -0.4753  0.6095  0.8682  0.1494  0.9568  0.9803  1.0000  0.0000\n",
            "G           -0.2624  0.5298 -0.1197 -0.1401  0.3164  0.1059 -0.1926  0.0000  1.0000\n",
            "\n",
            "\n",
            "\n",
            "COEFFICIENTS OF AUTOCORRELATION\n",
            "Order          1\n",
            "c         0.9799\n",
            "h         0.9791\n",
            "k         0.9970\n",
            "w         0.9698\n",
            "r         0.9282\n",
            "y         0.9387\n",
            "i         0.8938\n",
            "A         0.9000\n",
            "G         0.9000\n",
            "warning: using the gnuplot graphics toolkit is discouraged\n",
            "\n",
            "The gnuplot graphics toolkit is not actively maintained and has a number\n",
            "of limitations that are ulikely to be fixed.  Communication with gnuplot\n",
            "uses a one-directional pipe and limited information is passed back to the\n",
            "Octave interpreter so most changes made interactively in the plot window\n",
            "will not be reflected in the graphics properties managed by Octave.  For\n",
            "example, if the plot window is closed with a mouse click, Octave will not\n",
            "be notified and will not update it's internal list of open figure windows.\n",
            "We recommend using the qt toolkit instead.\n",
            "Total computing time : 0h00m03s\n",
            "Note: warning(s) encountered in MATLAB/Octave code\n"
          ]
        }
      ]
    },
    {
      "cell_type": "code",
      "source": [],
      "metadata": {
        "id": "8n5i7MXC6PmD"
      },
      "execution_count": null,
      "outputs": []
    }
  ]
}